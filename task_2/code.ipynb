{
 "cells": [
  {
   "cell_type": "code",
   "execution_count": 9,
   "metadata": {},
   "outputs": [],
   "source": [
    "import random\n",
    "import uuid\n",
    "\n",
    "import structlog\n",
    "from confluent_kafka import avro\n",
    "from kafkian import Producer\n",
    "from kafkian.serde.avroserdebase import AvroRecord\n",
    "from kafkian.serde.serialization import AvroSerializer, AvroStringKeySerializer\n",
    "from time import sleep"
   ]
  },
  {
   "cell_type": "code",
   "execution_count": 10,
   "metadata": {},
   "outputs": [],
   "source": [
    "logger = structlog.getLogger(__name__)\n"
   ]
  },
  {
   "cell_type": "markdown",
   "metadata": {},
   "source": [
    "## Initialize Schema-Registry"
   ]
  },
  {
   "cell_type": "code",
   "execution_count": 11,
   "metadata": {},
   "outputs": [],
   "source": [
    "value_schema_str = \"\"\"\n",
    "{\n",
    "   \"namespace\": \"locations\",\n",
    "   \"name\": \"LocationReceived\",\n",
    "   \"type\": \"record\",\n",
    "   \"fields\" : [\n",
    "     {\n",
    "       \"name\" : \"deviceId\",\n",
    "       \"type\" : \"string\"\n",
    "     },\n",
    "     {\n",
    "       \"name\" : \"latitude\",\n",
    "       \"type\" : \"float\"\n",
    "     },\n",
    "     {\n",
    "       \"name\" : \"longitude\",\n",
    "       \"type\" : \"float\"\n",
    "     }\n",
    "   ]\n",
    "}\n",
    "\"\"\"\n",
    "\n",
    "class LocationReceived(AvroRecord):\n",
    "    _schema = avro.loads(value_schema_str)"
   ]
  },
  {
   "cell_type": "code",
   "execution_count": 12,
   "metadata": {},
   "outputs": [
    {
     "name": "stdout",
     "output_type": "stream",
     "text": [
      "2019-05-27 22:14.51 Initializing producer          config={'acks': 'all', 'api.version.request': True, 'client.id': 'Allars-MBP-2', 'log.connection.close': False, 'max.in.flight': 1, 'queue.buffering.max.ms': 100, 'statistics.interval.ms': 15000, 'bootstrap.servers': 'localhost:29092'}\n"
     ]
    }
   ],
   "source": [
    "SCHEMA_REGISTRY_CONFIG = {\n",
    "    'KAFKA_BOOTSTRAP_SERVERS': 'localhost:29092',\n",
    "    'SCHEMA_REGISTRY_URL': 'http://localhost:8081'\n",
    "}\n",
    "\n",
    "PRODUCER_CONFIG = {\n",
    "    'bootstrap.servers': SCHEMA_REGISTRY_CONFIG.get('KAFKA_BOOTSTRAP_SERVERS')\n",
    "}\n",
    "\n",
    "producer = Producer(\n",
    "    PRODUCER_CONFIG,\n",
    "    key_serializer=AvroStringKeySerializer(SCHEMA_REGISTRY_CONFIG.get('SCHEMA_REGISTRY_URL')),\n",
    "    value_serializer=AvroSerializer(SCHEMA_REGISTRY_CONFIG.get('SCHEMA_REGISTRY_URL'))\n",
    ")"
   ]
  },
  {
   "cell_type": "code",
   "execution_count": 13,
   "metadata": {},
   "outputs": [],
   "source": [
    "def produce_location_received(device_id: str, latitude: float, longitude: float):\n",
    "    message = LocationReceived(dict(\n",
    "        deviceId=device_id,\n",
    "        latitude=latitude,\n",
    "        longitude=longitude\n",
    "    ))\n",
    "\n",
    "    logger.msg(\"Sending to {} {} message: {}\".format(SCHEMA_REGISTRY_CONFIG.get('KAFKA_BOOTSTRAP_SERVERS'),\n",
    "                                                     SCHEMA_REGISTRY_CONFIG.get('SCHEMA_REGISTRY_URL'),\n",
    "                                                     message))\n",
    "    try:\n",
    "        producer.produce('location_ingress', device_id, message, sync=True)\n",
    "    except Exception as e:\n",
    "        logger.exception(\"Failed to produce LocationReceived event: {}\".format(e))"
   ]
  },
  {
   "cell_type": "markdown",
   "metadata": {},
   "source": [
    "## Produce message"
   ]
  },
  {
   "cell_type": "code",
   "execution_count": 16,
   "metadata": {},
   "outputs": [
    {
     "name": "stdout",
     "output_type": "stream",
     "text": [
      "2019-05-27 22:16.44 Sending to localhost:29092 http://localhost:8081 message: {'deviceId': '3b8fe5fa-1746-40fe-a9c0-38d0496de559', 'latitude': 59.339148965612516, 'longitude': 18.033505655898207}\n",
      "2019-05-27 22:16.44 Flushing producer\n"
     ]
    }
   ],
   "source": [
    "devices = [str(uuid.uuid4()) for _ in range(3)]\n",
    "\n",
    "device = random.choice(devices)\n",
    "\n",
    "produce_location_received(\n",
    "    device,\n",
    "    59.3363 + random.random() / 100,\n",
    "    18.0262 + random.random() / 100\n",
    ")"
   ]
  },
  {
   "cell_type": "code",
   "execution_count": null,
   "metadata": {},
   "outputs": [],
   "source": []
  }
 ],
 "metadata": {
  "celltoolbar": "Tags",
  "kernelspec": {
   "display_name": "airflow_jupyter",
   "language": "python",
   "name": "airflow_jupyter"
  },
  "language_info": {
   "codemirror_mode": {
    "name": "ipython",
    "version": 3
   },
   "file_extension": ".py",
   "mimetype": "text/x-python",
   "name": "python",
   "nbconvert_exporter": "python",
   "pygments_lexer": "ipython3",
   "version": "3.6.4"
  }
 },
 "nbformat": 4,
 "nbformat_minor": 2
}
