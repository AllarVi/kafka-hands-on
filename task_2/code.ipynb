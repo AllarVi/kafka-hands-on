{
 "cells": [
  {
   "cell_type": "code",
   "execution_count": 8,
   "metadata": {},
   "outputs": [],
   "source": [
    "import random\n",
    "import logging\n",
    "#from result_saver import ResultSaver\n",
    "\n",
    "log = logging.getLogger(\"jupyter_code\")\n",
    "\n",
    "value = random.randint(10,20)\n",
    "log.info(f'I have drawn {value} seconds for the next task!')\n",
    "result = {\n",
    "    'sleeping_time': value\n",
    "}\n",
    "\n",
    "#ResultSaver().save_result(result)"
   ]
  },
  {
   "cell_type": "code",
   "execution_count": null,
   "metadata": {},
   "outputs": [],
   "source": []
  }
 ],
 "metadata": {
  "celltoolbar": "Tags",
  "kernelspec": {
   "display_name": "airflow_jupyter",
   "language": "python",
   "name": "airflow_jupyter"
  },
  "language_info": {
   "codemirror_mode": {
    "name": "ipython",
    "version": 3
   },
   "file_extension": ".py",
   "mimetype": "text/x-python",
   "name": "python",
   "nbconvert_exporter": "python",
   "pygments_lexer": "ipython3",
   "version": "3.6.4"
  }
 },
 "nbformat": 4,
 "nbformat_minor": 2
}
